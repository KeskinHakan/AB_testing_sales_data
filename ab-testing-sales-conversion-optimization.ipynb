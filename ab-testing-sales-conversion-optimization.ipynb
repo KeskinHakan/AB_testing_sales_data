{
 "cells": [
  {
   "cell_type": "markdown",
   "id": "0eab7931",
   "metadata": {
    "_cell_guid": "b1076dfc-b9ad-4769-8c92-a6c4dae69d19",
    "_uuid": "8f2839f25d086af736a60e9eeb907d3b93b6e0e5",
    "papermill": {
     "duration": 0.007064,
     "end_time": "2023-03-25T11:57:42.905468",
     "exception": false,
     "start_time": "2023-03-25T11:57:42.898404",
     "status": "completed"
    },
    "tags": []
   },
   "source": [
    "<h1 id=\"basics\" style=\"font-family:verdana;\"> \n",
    "    <center> A/B Testing for the Sales Conversion Optimization\n",
    "    </center>\n",
    "</h1>\n",
    "<div style=\"width:100%;text-align: center;\"> <img align=middle src=\"https://ik.imagekit.io/ccyubla1p9v/wp-content/uploads/2019/02/AB-Testing.png\" alt=\"A/B Testing\" style=\"height:500px;margin-top:1rem;\"> </div>\n",
    "\n"
   ]
  },
  {
   "cell_type": "markdown",
   "id": "c8774ee2",
   "metadata": {
    "papermill": {
     "duration": 0.005343,
     "end_time": "2023-03-25T11:57:42.916696",
     "exception": false,
     "start_time": "2023-03-25T11:57:42.911353",
     "status": "completed"
    },
    "tags": []
   },
   "source": [
    "The data used in this project is from an anonymous organisation’s social media ad campaign. The data file can be downloaded from here. The file conversion_data.csv contains 1143 observations in 11 variables. Below are the descriptions of the variables.\n",
    "\n",
    "1. ad_id: an unique ID for each ad.\n",
    "\n",
    "2. xyz_campaign_id: an ID associated with each ad campaign of XYZ company.\n",
    "\n",
    "3. fb_campaign_id: an ID associated with how Facebook tracks each campaign.\n",
    "\n",
    "4. age: age of the person to whom the ad is shown.\n",
    "\n",
    "5. gender: gender of the person to whim the add is shown\n",
    "\n",
    "6. interest: a code specifying the category to which the person’s interest belongs (interests are as mentioned in the person’s Facebook public profile).\n",
    "\n",
    "7. Impressions: the number of times the ad was shown.\n",
    "\n",
    "8. Clicks: number of clicks on for that ad.\n",
    "\n",
    "9. Spent: Amount paid by company xyz to Facebook, to show that ad.\n",
    "\n",
    "10. Total conversion: Total number of people who enquired about the product after seeing the ad.\n",
    "\n",
    "11. Approved conversion: Total number of people who bought the product after seeing the ad."
   ]
  },
  {
   "cell_type": "markdown",
   "id": "f3522b4e",
   "metadata": {
    "papermill": {
     "duration": 0.005223,
     "end_time": "2023-03-25T11:57:42.927608",
     "exception": false,
     "start_time": "2023-03-25T11:57:42.922385",
     "status": "completed"
    },
    "tags": []
   },
   "source": [
    "## Main topics of the study can be seen below:\n",
    "\n",
    "* [Aim of the study](#section-one)\n",
    "* [Understanding the data](#section-two)\n",
    "* [Preparation of data](#section-three)\n",
    "* [What is the A/B Testing](#section-four)\n",
    "* [A/B Testing Model Process](#section-five)\n",
    "* [Hypothesis](#section-six)\n",
    "* [Assumption Control](#section-seven)\n",
    "    * [Normal Distribution](#section-eight)\n",
    "    * [Variance Homogeneity Assumption](#section-nine)\n",
    "* [Apply of the Hypothesis](#section-ten)\n",
    "* [Conclusion and Reccomendation](#section-eleven)\n",
    "\n"
   ]
  },
  {
   "cell_type": "markdown",
   "id": "e733e90b",
   "metadata": {
    "papermill": {
     "duration": 0.005205,
     "end_time": "2023-03-25T11:57:42.938397",
     "exception": false,
     "start_time": "2023-03-25T11:57:42.933192",
     "status": "completed"
    },
    "tags": []
   },
   "source": [
    "<a id=\"section-one\"></a>\n",
    "## 1. Aim of the Study\n",
    "\n",
    "This dataset includes A/B test results of Sales and impressions of the two advertising method. To examine what happens when the two methods use for the advertising process and to see difference the results are occurred accidentally or not. In this study, we will try to find out whether methods effected to sales or impressions or not.\n",
    "\n",
    "<div style=\"width:100%;text-align: center;\"> <img align=middle src=\"https://devopedia.org/images/article/32/6055.1530296772.jpg\" alt=\"A/B Testing\" style=\"height:500px;margin-top:1rem;\"> </div>"
   ]
  },
  {
   "cell_type": "markdown",
   "id": "09b1f133",
   "metadata": {
    "papermill": {
     "duration": 0.005157,
     "end_time": "2023-03-25T11:57:42.949137",
     "exception": false,
     "start_time": "2023-03-25T11:57:42.943980",
     "status": "completed"
    },
    "tags": []
   },
   "source": [
    "<a id=\"section-two\"></a>\n",
    "## 2. Understanding the Data\n",
    "\n",
    "First of all we should import the libraries that will use during the analysis process."
   ]
  },
  {
   "cell_type": "code",
   "execution_count": 1,
   "id": "d07c4983",
   "metadata": {
    "execution": {
     "iopub.execute_input": "2023-03-25T11:57:42.962142Z",
     "iopub.status.busy": "2023-03-25T11:57:42.961744Z",
     "iopub.status.idle": "2023-03-25T11:57:44.781670Z",
     "shell.execute_reply": "2023-03-25T11:57:44.780285Z"
    },
    "papermill": {
     "duration": 1.830768,
     "end_time": "2023-03-25T11:57:44.785391",
     "exception": false,
     "start_time": "2023-03-25T11:57:42.954623",
     "status": "completed"
    },
    "tags": []
   },
   "outputs": [],
   "source": [
    "# Lets import the dataset\n",
    "\n",
    "import itertools\n",
    "import numpy as np\n",
    "import pandas as pd\n",
    "import matplotlib.pyplot as plt\n",
    "import seaborn as sns\n",
    "import statsmodels.stats.api as sms\n",
    "from scipy.stats import ttest_1samp, shapiro, levene, ttest_ind, mannwhitneyu, pearsonr, spearmanr, \\\n",
    "    kendalltau, f_oneway, kruskal"
   ]
  },
  {
   "cell_type": "code",
   "execution_count": 2,
   "id": "1bd50b35",
   "metadata": {
    "execution": {
     "iopub.execute_input": "2023-03-25T11:57:44.799526Z",
     "iopub.status.busy": "2023-03-25T11:57:44.798737Z",
     "iopub.status.idle": "2023-03-25T11:57:44.822771Z",
     "shell.execute_reply": "2023-03-25T11:57:44.821325Z"
    },
    "papermill": {
     "duration": 0.034539,
     "end_time": "2023-03-25T11:57:44.825886",
     "exception": false,
     "start_time": "2023-03-25T11:57:44.791347",
     "status": "completed"
    },
    "tags": []
   },
   "outputs": [],
   "source": [
    "# Lets import the dataset\n",
    "\n",
    "df = pd.read_csv(r\"/kaggle/input/clicks-conversion-tracking/KAG_conversion_data.csv\", encoding= 'unicode_escape')"
   ]
  },
  {
   "cell_type": "code",
   "execution_count": 3,
   "id": "9ad42a31",
   "metadata": {
    "execution": {
     "iopub.execute_input": "2023-03-25T11:57:44.839220Z",
     "iopub.status.busy": "2023-03-25T11:57:44.838552Z",
     "iopub.status.idle": "2023-03-25T11:57:44.920139Z",
     "shell.execute_reply": "2023-03-25T11:57:44.918799Z"
    },
    "papermill": {
     "duration": 0.092709,
     "end_time": "2023-03-25T11:57:44.924200",
     "exception": false,
     "start_time": "2023-03-25T11:57:44.831491",
     "status": "completed"
    },
    "tags": []
   },
   "outputs": [
    {
     "name": "stdout",
     "output_type": "stream",
     "text": [
      "########## Info #############\n",
      "<class 'pandas.core.frame.DataFrame'>\n",
      "RangeIndex: 1143 entries, 0 to 1142\n",
      "Data columns (total 11 columns):\n",
      " #   Column               Non-Null Count  Dtype  \n",
      "---  ------               --------------  -----  \n",
      " 0   ad_id                1143 non-null   int64  \n",
      " 1   xyz_campaign_id      1143 non-null   int64  \n",
      " 2   fb_campaign_id       1143 non-null   int64  \n",
      " 3   age                  1143 non-null   object \n",
      " 4   gender               1143 non-null   object \n",
      " 5   interest             1143 non-null   int64  \n",
      " 6   Impressions          1143 non-null   int64  \n",
      " 7   Clicks               1143 non-null   int64  \n",
      " 8   Spent                1143 non-null   float64\n",
      " 9   Total_Conversion     1143 non-null   int64  \n",
      " 10  Approved_Conversion  1143 non-null   int64  \n",
      "dtypes: float64(1), int64(8), object(2)\n",
      "memory usage: 98.4+ KB\n",
      "None\n",
      "########## Shape #############\n",
      "(1143, 11)\n",
      "########## Data Types #############\n",
      "ad_id                    int64\n",
      "xyz_campaign_id          int64\n",
      "fb_campaign_id           int64\n",
      "age                     object\n",
      "gender                  object\n",
      "interest                 int64\n",
      "Impressions              int64\n",
      "Clicks                   int64\n",
      "Spent                  float64\n",
      "Total_Conversion         int64\n",
      "Approved_Conversion      int64\n",
      "dtype: object\n",
      "########## Head of Data #############\n",
      "    ad_id  xyz_campaign_id  fb_campaign_id    age gender  interest  \\\n",
      "0  708746              916          103916  30-34      M        15   \n",
      "1  708749              916          103917  30-34      M        16   \n",
      "2  708771              916          103920  30-34      M        20   \n",
      "3  708815              916          103928  30-34      M        28   \n",
      "4  708818              916          103928  30-34      M        28   \n",
      "\n",
      "   Impressions  Clicks  Spent  Total_Conversion  Approved_Conversion  \n",
      "0         7350       1   1.43                 2                    1  \n",
      "1        17861       2   1.82                 2                    0  \n",
      "2          693       0   0.00                 1                    0  \n",
      "3         4259       1   1.25                 1                    0  \n",
      "4         4133       1   1.29                 1                    1  \n",
      "########## Tail of Data #############\n",
      "        ad_id  xyz_campaign_id  fb_campaign_id    age gender  interest  \\\n",
      "1138  1314410             1178          179977  45-49      F       109   \n",
      "1139  1314411             1178          179978  45-49      F       110   \n",
      "1140  1314412             1178          179979  45-49      F       111   \n",
      "1141  1314414             1178          179981  45-49      F       113   \n",
      "1142  1314415             1178          179982  45-49      F       114   \n",
      "\n",
      "      Impressions  Clicks       Spent  Total_Conversion  Approved_Conversion  \n",
      "1138      1129773     252  358.189997                13                    2  \n",
      "1139       637549     120  173.880003                 3                    0  \n",
      "1140       151531      28   40.289999                 2                    0  \n",
      "1141       790253     135  198.710001                 8                    2  \n",
      "1142       513161     114  165.609999                 5                    2  \n",
      "########## Null Values of Data #############\n",
      "ad_id                  0\n",
      "xyz_campaign_id        0\n",
      "fb_campaign_id         0\n",
      "age                    0\n",
      "gender                 0\n",
      "interest               0\n",
      "Impressions            0\n",
      "Clicks                 0\n",
      "Spent                  0\n",
      "Total_Conversion       0\n",
      "Approved_Conversion    0\n",
      "dtype: int64\n",
      "########## Describe of the Numerical Datas #############\n",
      "                      count           mean            std       min        0%  \\\n",
      "ad_id                1143.0  987261.130359  193992.814738  708746.0  708746.0   \n",
      "xyz_campaign_id      1143.0    1067.382327     121.629393     916.0     916.0   \n",
      "fb_campaign_id       1143.0  133783.989501   20500.308622  103916.0  103916.0   \n",
      "interest             1143.0      32.766404      26.952131       2.0       2.0   \n",
      "Impressions          1143.0  186732.132983  312762.183208      87.0      87.0   \n",
      "Clicks               1143.0      33.390201      56.892438       0.0       0.0   \n",
      "Spent                1143.0      51.360656      86.908418       0.0       0.0   \n",
      "Total_Conversion     1143.0       2.855643       4.483593       0.0       0.0   \n",
      "Approved_Conversion  1143.0       0.944007       1.737708       0.0       0.0   \n",
      "\n",
      "                           5%         50%          95%           99%  \\\n",
      "ad_id                734245.3  1121185.00  1314348.900  1.314403e+06   \n",
      "xyz_campaign_id         936.0     1178.00     1178.000  1.178000e+03   \n",
      "fb_campaign_id       108660.4   144549.00   179915.900  1.799696e+05   \n",
      "interest                 10.0       25.00      105.900  1.120000e+02   \n",
      "Impressions             741.2    51509.00   894449.400  1.331683e+06   \n",
      "Clicks                    0.0        8.00      161.900  2.620600e+02   \n",
      "Spent                     0.0       12.37      248.508  3.785852e+02   \n",
      "Total_Conversion          1.0        1.00       11.000  2.300000e+01   \n",
      "Approved_Conversion       0.0        1.00        4.000  9.000000e+00   \n",
      "\n",
      "                             100%           max  \n",
      "ad_id                1.314415e+06  1.314415e+06  \n",
      "xyz_campaign_id      1.178000e+03  1.178000e+03  \n",
      "fb_campaign_id       1.799820e+05  1.799820e+05  \n",
      "interest             1.140000e+02  1.140000e+02  \n",
      "Impressions          3.052003e+06  3.052003e+06  \n",
      "Clicks               4.210000e+02  4.210000e+02  \n",
      "Spent                6.399500e+02  6.399500e+02  \n",
      "Total_Conversion     6.000000e+01  6.000000e+01  \n",
      "Approved_Conversion  2.100000e+01  2.100000e+01  \n"
     ]
    }
   ],
   "source": [
    "# To understand the \"check_df\" functione can be used to decide the what should we do about the data.\n",
    "\n",
    "def check_df(dataframe, head=5):\n",
    "    print(\"########## Info #############\")\n",
    "    print(dataframe.info())\n",
    "    print(\"########## Shape #############\")\n",
    "    print(dataframe.shape)\n",
    "    print(\"########## Data Types #############\")\n",
    "    print(dataframe.dtypes)\n",
    "    print(\"########## Head of Data #############\")\n",
    "    print(dataframe.head(head))\n",
    "    print(\"########## Tail of Data #############\")\n",
    "    print(dataframe.tail(head))\n",
    "    print(\"########## Null Values of Data #############\")\n",
    "    print(dataframe.isnull().sum())\n",
    "    print(\"########## Describe of the Numerical Datas #############\")\n",
    "    print(dataframe.describe([0, 0.05, 0.50, 0.95, 0.99, 1]).T)\n",
    "\n",
    "check_df(df)"
   ]
  },
  {
   "cell_type": "code",
   "execution_count": 4,
   "id": "8fd8091c",
   "metadata": {
    "execution": {
     "iopub.execute_input": "2023-03-25T11:57:44.937993Z",
     "iopub.status.busy": "2023-03-25T11:57:44.937595Z",
     "iopub.status.idle": "2023-03-25T11:57:47.369746Z",
     "shell.execute_reply": "2023-03-25T11:57:47.368319Z"
    },
    "papermill": {
     "duration": 2.44346,
     "end_time": "2023-03-25T11:57:47.373717",
     "exception": false,
     "start_time": "2023-03-25T11:57:44.930257",
     "status": "completed"
    },
    "tags": []
   },
   "outputs": [
    {
     "data": {
      "image/png": "[encoded data removed]",
      "text/plain": [
       "<Figure size 1500x1500 with 9 Axes>"
      ]
     },
     "metadata": {},
     "output_type": "display_data"
    }
   ],
   "source": [
    "# Lets see the general distrubition of the numerical variables\n",
    "\n",
    "axList = df.hist(bins=20, figsize = (15, 15))\n",
    "plt.savefig(\"Hist.png\")"
   ]
  },
  {
   "cell_type": "markdown",
   "id": "2d44c3f7",
   "metadata": {
    "papermill": {
     "duration": 0.00723,
     "end_time": "2023-03-25T11:57:47.388734",
     "exception": false,
     "start_time": "2023-03-25T11:57:47.381504",
     "status": "completed"
    },
    "tags": []
   },
   "source": [
    "Before the start the analysis, according to dataset summary, dataset has 5 variables. Lets check them;\n",
    "\n",
    "1. ad_id: an unique ID for each ad.\n",
    "2. xyz_campaign_id: an ID associated with each ad campaign of XYZ company.\n",
    "3. Approved conversion: Total number of people who bought the product after seeing the ad.\n",
    "4. age: age of the person to whom the ad is shown.\n",
    "5. gender: gender of the person to whim the add is shown\n",
    "\n",
    "According to quick analysis of the data, dataset does not have any null data and all userids are used as individually.\n"
   ]
  },
  {
   "cell_type": "markdown",
   "id": "a5c7c8e6",
   "metadata": {
    "papermill": {
     "duration": 0.007169,
     "end_time": "2023-03-25T11:57:47.403395",
     "exception": false,
     "start_time": "2023-03-25T11:57:47.396226",
     "status": "completed"
    },
    "tags": []
   },
   "source": [
    "<a id=\"section-three\"></a>\n",
    "## 3. Preparation of the Data\n",
    "\n",
    "In this stage, If any null values are in the dataset, they will drop it from the data."
   ]
  },
  {
   "cell_type": "code",
   "execution_count": 5,
   "id": "31b79a92",
   "metadata": {
    "execution": {
     "iopub.execute_input": "2023-03-25T11:57:47.420107Z",
     "iopub.status.busy": "2023-03-25T11:57:47.419719Z",
     "iopub.status.idle": "2023-03-25T11:57:47.474580Z",
     "shell.execute_reply": "2023-03-25T11:57:47.473233Z"
    },
    "papermill": {
     "duration": 0.06628,
     "end_time": "2023-03-25T11:57:47.477096",
     "exception": false,
     "start_time": "2023-03-25T11:57:47.410816",
     "status": "completed"
    },
    "tags": []
   },
   "outputs": [
    {
     "data": {
      "text/html": [
       "<div>\n",
       "<style scoped>\n",
       "    .dataframe tbody tr th:only-of-type {\n",
       "        vertical-align: middle;\n",
       "    }\n",
       "\n",
       "    .dataframe tbody tr th {\n",
       "        vertical-align: top;\n",
       "    }\n",
       "\n",
       "    .dataframe thead th {\n",
       "        text-align: right;\n",
       "    }\n",
       "</style>\n",
       "<table border=\"1\" class=\"dataframe\">\n",
       "  <thead>\n",
       "    <tr style=\"text-align: right;\">\n",
       "      <th></th>\n",
       "      <th>count</th>\n",
       "      <th>mean</th>\n",
       "      <th>std</th>\n",
       "      <th>min</th>\n",
       "      <th>25%</th>\n",
       "      <th>50%</th>\n",
       "      <th>75%</th>\n",
       "      <th>max</th>\n",
       "    </tr>\n",
       "  </thead>\n",
       "  <tbody>\n",
       "    <tr>\n",
       "      <th>ad_id</th>\n",
       "      <td>1143.0</td>\n",
       "      <td>987261.130359</td>\n",
       "      <td>193992.814738</td>\n",
       "      <td>708746.0</td>\n",
       "      <td>777632.50</td>\n",
       "      <td>1121185.00</td>\n",
       "      <td>1121804.500</td>\n",
       "      <td>1.314415e+06</td>\n",
       "    </tr>\n",
       "    <tr>\n",
       "      <th>xyz_campaign_id</th>\n",
       "      <td>1143.0</td>\n",
       "      <td>1067.382327</td>\n",
       "      <td>121.629393</td>\n",
       "      <td>916.0</td>\n",
       "      <td>936.00</td>\n",
       "      <td>1178.00</td>\n",
       "      <td>1178.000</td>\n",
       "      <td>1.178000e+03</td>\n",
       "    </tr>\n",
       "    <tr>\n",
       "      <th>fb_campaign_id</th>\n",
       "      <td>1143.0</td>\n",
       "      <td>133783.989501</td>\n",
       "      <td>20500.308622</td>\n",
       "      <td>103916.0</td>\n",
       "      <td>115716.00</td>\n",
       "      <td>144549.00</td>\n",
       "      <td>144657.500</td>\n",
       "      <td>1.799820e+05</td>\n",
       "    </tr>\n",
       "    <tr>\n",
       "      <th>interest</th>\n",
       "      <td>1143.0</td>\n",
       "      <td>32.766404</td>\n",
       "      <td>26.952131</td>\n",
       "      <td>2.0</td>\n",
       "      <td>16.00</td>\n",
       "      <td>25.00</td>\n",
       "      <td>31.000</td>\n",
       "      <td>1.140000e+02</td>\n",
       "    </tr>\n",
       "    <tr>\n",
       "      <th>Impressions</th>\n",
       "      <td>1143.0</td>\n",
       "      <td>186732.132983</td>\n",
       "      <td>312762.183208</td>\n",
       "      <td>87.0</td>\n",
       "      <td>6503.50</td>\n",
       "      <td>51509.00</td>\n",
       "      <td>221769.000</td>\n",
       "      <td>3.052003e+06</td>\n",
       "    </tr>\n",
       "    <tr>\n",
       "      <th>Clicks</th>\n",
       "      <td>1143.0</td>\n",
       "      <td>33.390201</td>\n",
       "      <td>56.892438</td>\n",
       "      <td>0.0</td>\n",
       "      <td>1.00</td>\n",
       "      <td>8.00</td>\n",
       "      <td>37.500</td>\n",
       "      <td>4.210000e+02</td>\n",
       "    </tr>\n",
       "    <tr>\n",
       "      <th>Spent</th>\n",
       "      <td>1143.0</td>\n",
       "      <td>51.360656</td>\n",
       "      <td>86.908418</td>\n",
       "      <td>0.0</td>\n",
       "      <td>1.48</td>\n",
       "      <td>12.37</td>\n",
       "      <td>60.025</td>\n",
       "      <td>6.399500e+02</td>\n",
       "    </tr>\n",
       "    <tr>\n",
       "      <th>Total_Conversion</th>\n",
       "      <td>1143.0</td>\n",
       "      <td>2.855643</td>\n",
       "      <td>4.483593</td>\n",
       "      <td>0.0</td>\n",
       "      <td>1.00</td>\n",
       "      <td>1.00</td>\n",
       "      <td>3.000</td>\n",
       "      <td>6.000000e+01</td>\n",
       "    </tr>\n",
       "    <tr>\n",
       "      <th>Approved_Conversion</th>\n",
       "      <td>1143.0</td>\n",
       "      <td>0.944007</td>\n",
       "      <td>1.737708</td>\n",
       "      <td>0.0</td>\n",
       "      <td>0.00</td>\n",
       "      <td>1.00</td>\n",
       "      <td>1.000</td>\n",
       "      <td>2.100000e+01</td>\n",
       "    </tr>\n",
       "  </tbody>\n",
       "</table>\n",
       "</div>"
      ],
      "text/plain": [
       "                      count           mean            std       min  \\\n",
       "ad_id                1143.0  987261.130359  193992.814738  708746.0   \n",
       "xyz_campaign_id      1143.0    1067.382327     121.629393     916.0   \n",
       "fb_campaign_id       1143.0  133783.989501   20500.308622  103916.0   \n",
       "interest             1143.0      32.766404      26.952131       2.0   \n",
       "Impressions          1143.0  186732.132983  312762.183208      87.0   \n",
       "Clicks               1143.0      33.390201      56.892438       0.0   \n",
       "Spent                1143.0      51.360656      86.908418       0.0   \n",
       "Total_Conversion     1143.0       2.855643       4.483593       0.0   \n",
       "Approved_Conversion  1143.0       0.944007       1.737708       0.0   \n",
       "\n",
       "                           25%         50%          75%           max  \n",
       "ad_id                777632.50  1121185.00  1121804.500  1.314415e+06  \n",
       "xyz_campaign_id         936.00     1178.00     1178.000  1.178000e+03  \n",
       "fb_campaign_id       115716.00   144549.00   144657.500  1.799820e+05  \n",
       "interest                 16.00       25.00       31.000  1.140000e+02  \n",
       "Impressions            6503.50    51509.00   221769.000  3.052003e+06  \n",
       "Clicks                    1.00        8.00       37.500  4.210000e+02  \n",
       "Spent                     1.48       12.37       60.025  6.399500e+02  \n",
       "Total_Conversion          1.00        1.00        3.000  6.000000e+01  \n",
       "Approved_Conversion       0.00        1.00        1.000  2.100000e+01  "
      ]
     },
     "execution_count": 5,
     "metadata": {},
     "output_type": "execute_result"
    }
   ],
   "source": [
    "# dropna() command will help to drop the null values from the data.\n",
    "df.shape\n",
    "df.isnull().sum()\n",
    "df.dropna(inplace = True)\n",
    "\n",
    "# Lets check the data\n",
    "\n",
    "df.describe().T\n"
   ]
  },
  {
   "cell_type": "markdown",
   "id": "86e3e65b",
   "metadata": {
    "papermill": {
     "duration": 0.008952,
     "end_time": "2023-03-25T11:57:47.493980",
     "exception": false,
     "start_time": "2023-03-25T11:57:47.485028",
     "status": "completed"
    },
    "tags": []
   },
   "source": [
    "<a id=\"section-four\"></a>\n",
    "## 4. What is the A/B Testing\n",
    "\n",
    "<div style=\"width:100%;text-align: center;\"> <img align=middle src=\"https://sp-ao.shortpixel.ai/client/to_auto,q_glossy,ret_img,w_900/https://www.brillmark.com/wp-content/uploads/2021/03/What-is-AB-Testing.png\" alt=\"A/B Testing\" style=\"height:300px;margin-top:1rem;\"> </div>\n",
    "\n",
    "> A/B testing (also known as split testing or bucket testing) is a methodology for comparing two versions of a webpage or app against each other to determine which one performs better. A/B testing is essentially an experiment where two or more variants of a page are shown to users at random, and statistical analysis is used to determine which variation performs better for a given conversion goal.\n",
    "\n",
    "> Running an A/B test that directly compares a variation against a current experience lets you ask focused questions about changes to your website or app and then collect data about the impact of that change.\n",
    "\n",
    "> Testing takes the guesswork out of website optimization and enables data-informed decisions that shift business conversations from \"we think\" to \"we know.\" By measuring the impact that changes have on your metrics, you can ensure that every change produces positive results.\n"
   ]
  },
  {
   "cell_type": "markdown",
   "id": "7bde44f5",
   "metadata": {
    "papermill": {
     "duration": 0.007421,
     "end_time": "2023-03-25T11:57:47.509505",
     "exception": false,
     "start_time": "2023-03-25T11:57:47.502084",
     "status": "completed"
    },
    "tags": []
   },
   "source": [
    "<a id=\"section-five\"></a>\n",
    "## 5. A/B Testing Model Process\n",
    "\n",
    "To apply the A/B Testing for the dataset we should have follow the fundamental steps according to literature of the A/B Testing. These steps can be seen below:\n",
    "\n",
    "1. Hypothesis\n",
    "2. Assumptions Control\n",
    "3. Apply of the Hyphothesis"
   ]
  },
  {
   "cell_type": "markdown",
   "id": "247b619c",
   "metadata": {
    "papermill": {
     "duration": 0.007451,
     "end_time": "2023-03-25T11:57:47.524673",
     "exception": false,
     "start_time": "2023-03-25T11:57:47.517222",
     "status": "completed"
    },
    "tags": []
   },
   "source": [
    "<a id=\"section-six\"></a>\n",
    "## 6. Hypothesis\n",
    "\n",
    "First step of the A/B Testing we should define the \"Hypothesis\". It means, which condition or situation will be tested in the dataset and what is the boundaries of the hypothesis step.\n",
    "\n",
    "According to literature, A/B testing has two hyphtohesises H0 and H1. Lets explain these hypothesises.\n",
    "\n",
    "> A statistical hypothesis is an assertion or conjecture concerning one or more populations. To prove that a hypothesis is true, or false, with absolute certainty, we would need absolute knowledge. That is, we would have to examine the entire population. Instead, hypothesis testing concerns on how to use a random sample to judge if it is evidence that supports or not the hypothesis.\n",
    "\n",
    "Hypothesis testing is formulated in terms of two hypotheses:\n",
    "- H0: the null hypothesis;\n",
    "- H1: the alternate hypothesis.\n",
    "    \n",
    "    \n",
    "The hypothesis we want to test is if H1 is “likely” true. So, there are two possible outcomes:\n",
    "- Reject H0 and accept H1 because of sufficient evidence in the sample in favor or H1;\n",
    "- Do not reject H0 because of insufficient evidence to support H1.\n",
    "\n",
    "Note that failure to reject H0 does not mean the null hypothesis is true. There is no formal outcome that says “accept H0.” It only means that we do not have sufficient evidence to support H1."
   ]
  },
  {
   "cell_type": "markdown",
   "id": "8633a7c7",
   "metadata": {
    "papermill": {
     "duration": 0.00746,
     "end_time": "2023-03-25T11:57:47.539998",
     "exception": false,
     "start_time": "2023-03-25T11:57:47.532538",
     "status": "completed"
    },
    "tags": []
   },
   "source": [
    "<a id=\"section-seven\"></a>\n",
    "## 7. Assumption Control"
   ]
  },
  {
   "cell_type": "markdown",
   "id": "0eed36e3",
   "metadata": {
    "papermill": {
     "duration": 0.007552,
     "end_time": "2023-03-25T11:57:47.555299",
     "exception": false,
     "start_time": "2023-03-25T11:57:47.547747",
     "status": "completed"
    },
    "tags": []
   },
   "source": [
    "<a id=\"section-eight\"></a>\n",
    "### 7.1 Normal Distribution\n",
    "\n",
    "To understand if the mean of a sample is significantly different from the population mean (μ), we need to perform a Z-test. At the moment we are interested in a two-tails test that is formulated as:\n",
    "\n",
    "H0: m = m0 – Null hypothesis – The mean of our sample (m or X-bar) is not different to the value m0.\n",
    "H1: m ≠ m0 – Alternative hypothesis – The mean of our sample (m) is different to the value m0.\n",
    "\n",
    "The Z-score is calculated based on the formula below:\n",
    "\n",
    "<div style=\"width:100%;text-align: center;\"> <img align=middle src=\"https://i.stack.imgur.com/z0zgw.png\" alt=\"A/B Testing\" style=\"height:300px;margin-top:1rem;\"> </div>\n",
    "\n",
    "- X-bar: sample mean\n",
    "- μ: population meean\n",
    "- σ: population standard deviation\n",
    "\n"
   ]
  },
  {
   "cell_type": "code",
   "execution_count": 6,
   "id": "b81094c5",
   "metadata": {
    "execution": {
     "iopub.execute_input": "2023-03-25T11:57:47.574044Z",
     "iopub.status.busy": "2023-03-25T11:57:47.573557Z",
     "iopub.status.idle": "2023-03-25T11:57:47.584477Z",
     "shell.execute_reply": "2023-03-25T11:57:47.582764Z"
    },
    "papermill": {
     "duration": 0.025504,
     "end_time": "2023-03-25T11:57:47.588648",
     "exception": false,
     "start_time": "2023-03-25T11:57:47.563144",
     "status": "completed"
    },
    "tags": []
   },
   "outputs": [
    {
     "name": "stdout",
     "output_type": "stream",
     "text": [
      "Test Stat = 0.3912, p-value = 0.0000\n",
      "Test Stat = 0.6933, p-value = 0.0000\n"
     ]
    }
   ],
   "source": [
    "####################################\n",
    "# Normal Distribution\n",
    "####################################\n",
    "\n",
    "# H0: Normal distribution assumption is true.\n",
    "# H1: False.\n",
    "\n",
    "# If p-value < 0.05, H0 = Reject\n",
    "# If p-value > 0.05 H0 = Cannot Reject.\n",
    "\n",
    "# Normal Distribution control for Id 939\n",
    "\n",
    "test_stat, pvalue = shapiro(df.loc[df[\"xyz_campaign_id\"] == 936, \"Impressions\"])\n",
    "print(\"Test Stat = %.4f, p-value = %.4f\" % (test_stat, pvalue))\n",
    "\n",
    "# Normal Distribution control for Id 1178\n",
    "\n",
    "test_stat, pvalue = shapiro(df.loc[df[\"xyz_campaign_id\"] == 916, \"Impressions\"])\n",
    "print(\"Test Stat = %.4f, p-value = %.4f\" % (test_stat, pvalue))\n",
    "\n",
    "# According to p-values, H0 = Reject"
   ]
  },
  {
   "cell_type": "markdown",
   "id": "57c91935",
   "metadata": {
    "papermill": {
     "duration": 0.007649,
     "end_time": "2023-03-25T11:57:47.604714",
     "exception": false,
     "start_time": "2023-03-25T11:57:47.597065",
     "status": "completed"
    },
    "tags": []
   },
   "source": [
    "<a id=\"section-nine\"></a>\n",
    "### 7.2 Variance Homogeneity Assumption\n",
    "\n",
    "The assumption of homogeneity of variance means that the level of variance for a particular variable is constant across the sample. If you’ve collected groups of data then this means that the variance of your outcome variable(s) should be the same in each of these groups (i.e. across schools, years, testing groups or predicted values)."
   ]
  },
  {
   "cell_type": "code",
   "execution_count": 7,
   "id": "0bf6cd24",
   "metadata": {
    "execution": {
     "iopub.execute_input": "2023-03-25T11:57:47.624144Z",
     "iopub.status.busy": "2023-03-25T11:57:47.622768Z",
     "iopub.status.idle": "2023-03-25T11:57:47.633515Z",
     "shell.execute_reply": "2023-03-25T11:57:47.632128Z"
    },
    "papermill": {
     "duration": 0.023399,
     "end_time": "2023-03-25T11:57:47.636061",
     "exception": false,
     "start_time": "2023-03-25T11:57:47.612662",
     "status": "completed"
    },
    "tags": []
   },
   "outputs": [
    {
     "name": "stdout",
     "output_type": "stream",
     "text": [
      "Test Stat = 2.3178, p-value = 0.1285\n"
     ]
    }
   ],
   "source": [
    "####################################\n",
    "# Variance Homogeneity Assumption:\n",
    "####################################\n",
    "\n",
    "# H0: Variance is homogeneous.\n",
    "# H1: Variance is not homogeneous.\n",
    "\n",
    "# If p-value < 0.05, H0 = Reject\n",
    "# If p-value > 0.05 H0 = Cannot Reject.\n",
    "\n",
    "test_stat, pvalue = levene(df.loc[df[\"xyz_campaign_id\"] == 936, \"Impressions\"],\n",
    "                            df.loc[df[\"xyz_campaign_id\"] == 916, \"Impressions\"])\n",
    "print(\"Test Stat = %.4f, p-value = %.4f\" % (test_stat, pvalue))\n",
    "\n",
    "# According to p-values, H0 =  Cannot Reject"
   ]
  },
  {
   "cell_type": "markdown",
   "id": "ce281d58",
   "metadata": {
    "papermill": {
     "duration": 0.007975,
     "end_time": "2023-03-25T11:57:47.652253",
     "exception": false,
     "start_time": "2023-03-25T11:57:47.644278",
     "status": "completed"
    },
    "tags": []
   },
   "source": [
    "<a id=\"section-ten\"></a>\n",
    "## 8. Apply of the Hypothesis\n",
    "\n",
    "According to \"Normal Distribution\" and \"Variance Homogeneity Assumption\" controls shown that the first control H0 = reject, and the second one is H0 = Cannot reject. It means, we should use the mannwtihneyu() command to apply of the hypothesis.\n",
    "\n",
    "The Mann-Whitney test is based on a comparison of every observation xi in the first sample with every observation yj in the other sample. The total number of pairwise comparisons that can be made is nxny."
   ]
  },
  {
   "cell_type": "code",
   "execution_count": 8,
   "id": "0bb82388",
   "metadata": {
    "execution": {
     "iopub.execute_input": "2023-03-25T11:57:47.670786Z",
     "iopub.status.busy": "2023-03-25T11:57:47.670359Z",
     "iopub.status.idle": "2023-03-25T11:57:47.679783Z",
     "shell.execute_reply": "2023-03-25T11:57:47.678638Z"
    },
    "papermill": {
     "duration": 0.021744,
     "end_time": "2023-03-25T11:57:47.682259",
     "exception": false,
     "start_time": "2023-03-25T11:57:47.660515",
     "status": "completed"
    },
    "tags": []
   },
   "outputs": [
    {
     "name": "stdout",
     "output_type": "stream",
     "text": [
      "Test Stat = 13311.5000, p-value = 0.4520\n"
     ]
    }
   ],
   "source": [
    "####################################\n",
    "# Apply of the Hypothesis:\n",
    "####################################\n",
    "\n",
    "test_stat, pvalue = mannwhitneyu(df.loc[df[\"xyz_campaign_id\"] == 936, \"Impressions\"],\n",
    "                            df.loc[df[\"xyz_campaign_id\"] == 916, \"Impressions\"])\n",
    "print(\"Test Stat = %.4f, p-value = %.4f\" % (test_stat, pvalue))\n",
    "\n",
    "# If p-value < 0.05, H0 = Reject\n",
    "# If p-value > 0.05 H0 = Cannot Reject."
   ]
  },
  {
   "cell_type": "markdown",
   "id": "e3ba7ff1",
   "metadata": {
    "papermill": {
     "duration": 0.008065,
     "end_time": "2023-03-25T11:57:47.698758",
     "exception": false,
     "start_time": "2023-03-25T11:57:47.690693",
     "status": "completed"
    },
    "tags": []
   },
   "source": [
    "<a id=\"section-eleven\"></a>\n",
    "## 9. Conclusion and Recommendation\n",
    "\n",
    "According to A/B Testing results to find out the effect of the \"936\" and \"936\" are effected to the total impressions of the sales?\n",
    "\n",
    "In the first of testing process, we ask as \"means are equal or not\" for the case study that shared above. To find out it, firstly checked normal distribution and variance homogeneity assumption are distributed normal or not? A/B testing says that if Normal Distribution is not equal, you should use the Mann-Whitney U test to find out the effect of the \"gate_30\" and \"gate_40\". \n",
    "\n",
    "The result of the Mann-Whitney U test, p-value calculated as 0.4520, and it means H0 = Cannot Reject according to Hypothesis assumption, and its meaning for the A/B Testing, both advertesing strategy results are occurred just accidentally. \n"
   ]
  },
  {
   "cell_type": "markdown",
   "id": "e421afb2",
   "metadata": {
    "papermill": {
     "duration": 0.007768,
     "end_time": "2023-03-25T11:57:47.714902",
     "exception": false,
     "start_time": "2023-03-25T11:57:47.707134",
     "status": "completed"
    },
    "tags": []
   },
   "source": [
    "## Keep in Touch!\n",
    "\n",
    "You can follow my the other social media adresses to see this kind of works!\n",
    "\n",
    "1. [GitHub](https://github.com/KeskinHakan)\n",
    "2. [LinkedIn](https://www.linkedin.com/in/hakan-keskin-/)\n",
    "3. [Medium](https://medium.com/@hakan-keskin)\n"
   ]
  }
 ],
 "metadata": {
  "kernelspec": {
   "display_name": "Python 3",
   "language": "python",
   "name": "python3"
  },
  "language_info": {
   "codemirror_mode": {
    "name": "ipython",
    "version": 3
   },
   "file_extension": ".py",
   "mimetype": "text/x-python",
   "name": "python",
   "nbconvert_exporter": "python",
   "pygments_lexer": "ipython3",
   "version": "3.7.12"
  },
  "papermill": {
   "default_parameters": {},
   "duration": 16.972189,
   "end_time": "2023-03-25T11:57:48.647637",
   "environment_variables": {},
   "exception": null,
   "input_path": "__notebook__.ipynb",
   "output_path": "__notebook__.ipynb",
   "parameters": {},
   "start_time": "2023-03-25T11:57:31.675448",
   "version": "2.4.0"
  }
 },
 "nbformat": 4,
 "nbformat_minor": 5
}
